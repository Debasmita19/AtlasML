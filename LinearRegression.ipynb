{
  "nbformat": 4,
  "nbformat_minor": 0,
  "metadata": {
    "colab": {
      "provenance": [],
      "authorship_tag": "ABX9TyNojFTECxw4dUQKcRjWyhOQ",
      "include_colab_link": true
    },
    "kernelspec": {
      "name": "python3",
      "display_name": "Python 3"
    },
    "language_info": {
      "name": "python"
    }
  },
  "cells": [
    {
      "cell_type": "markdown",
      "metadata": {
        "id": "view-in-github",
        "colab_type": "text"
      },
      "source": [
        "<a href=\"https://colab.research.google.com/github/Debasmita19/AtlasML/blob/main/LinearRegression.ipynb\" target=\"_parent\"><img src=\"https://colab.research.google.com/assets/colab-badge.svg\" alt=\"Open In Colab\"/></a>"
      ]
    },
    {
      "cell_type": "code",
      "execution_count": 1,
      "metadata": {
        "colab": {
          "base_uri": "https://localhost:8080/"
        },
        "id": "P-FcH0PGE1BT",
        "outputId": "6d450c98-7406-408c-cae2-92febffa8463"
      },
      "outputs": [
        {
          "output_type": "stream",
          "name": "stdout",
          "text": [
            "Predicted Values: [2.8000000000000003, 3.4000000000000004, 4.0, 4.6, 5.2]\n",
            "Slope (m): 0.6\n",
            "Intercept (b): 2.2\n"
          ]
        }
      ],
      "source": [
        "class LinearRegression:\n",
        "    def __init__(self):\n",
        "        self.m = 0\n",
        "        self.b = 0\n",
        "\n",
        "    def fit(self, X, y):\n",
        "        # Number of data points\n",
        "        n = len(X)\n",
        "\n",
        "        # Mean of X and y\n",
        "        mean_x = sum(X) / n\n",
        "        mean_y = sum(y) / n\n",
        "\n",
        "        # Calculate the numerator and denominator for 'm'\n",
        "        num = sum((X[i] - mean_x) * (y[i] - mean_y) for i in range(n))\n",
        "        den = sum((X[i] - mean_x) ** 2 for i in range(n))\n",
        "\n",
        "        self.m = num / den\n",
        "        self.b = mean_y - self.m * mean_x\n",
        "\n",
        "    def predict(self, X):\n",
        "        return [self.m * x + self.b for x in X]\n",
        "\n",
        "    def get_params(self):\n",
        "        return self.m, self.b\n",
        "\n",
        "\n",
        "# Test the LinearRegression class\n",
        "if __name__ == \"__main__\":\n",
        "    # Example dataset\n",
        "    X = [1, 2, 3, 4, 5]\n",
        "    y = [2, 4, 5, 4, 5]\n",
        "\n",
        "    model = LinearRegression()\n",
        "    model.fit(X, y)\n",
        "    predictions = model.predict(X)\n",
        "\n",
        "    print(\"Predicted Values:\", predictions)\n",
        "    print(\"Slope (m):\", model.m)\n",
        "    print(\"Intercept (b):\", model.b)\n"
      ]
    }
  ]
}